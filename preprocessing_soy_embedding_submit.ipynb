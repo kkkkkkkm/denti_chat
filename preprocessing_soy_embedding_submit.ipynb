{
 "cells": [
  {
   "cell_type": "code",
   "execution_count": 60,
   "id": "4cf8e9ec",
   "metadata": {},
   "outputs": [],
   "source": [
    "import pandas as pd\n",
    "import pickle\n",
    "import os\n",
    "from glob import glob\n",
    "import soynlp\n",
    "from soyspacing.countbase import CountSpace\n",
    "from konlpy.tag import Mecab\n",
    "from gensim.models import FastText\n",
    "mecab = Mecab()"
   ]
  },
  {
   "cell_type": "code",
   "execution_count": 70,
   "id": "0b5c4162",
   "metadata": {},
   "outputs": [
    {
     "name": "stdout",
     "output_type": "stream",
     "text": [
      "['patient_1_patient_data.csv', 'patient_2_patient_data.csv', 'patient_3_patient_data.csv', 'patient_4_patient_data.csv', 'patient_5_patient_data.csv']\n"
     ]
    }
   ],
   "source": [
    "os.chdir('/data/kmkim/chatbot_data_model/dental_5/5_data') ### 생성된 데이터들이 있는 주소로 변경 필요\n",
    "data_list= sorted(glob('*.csv'))\n",
    "print(data_list)"
   ]
  },
  {
   "cell_type": "code",
   "execution_count": 51,
   "id": "1e56c309",
   "metadata": {},
   "outputs": [],
   "source": [
    "def soytext_Fastembedding(loaded_data, file_path, name):\n",
    "    \n",
    "    with open(file_path + name + '.pkl','wb') as f:\n",
    "        pickle.dump(loaded_data, f)\n",
    "    \n",
    "    ## 맞춤법 학습용 soy model\n",
    "    with open(file_path + name + '_soy.txt', 'w', encoding = 'utf-8') as f:\n",
    "        for i in loaded_data:\n",
    "            try:\n",
    "                f.write(i[0] +'\\n')\n",
    "                f.write(i[1] +'\\n')\n",
    "            except TypeError:\n",
    "                print(i)\n",
    "    corpus_fname = file_path + name +'_soy.txt'\n",
    "    model = CountSpace()\n",
    "    model.train(corpus_fname)\n",
    "    model_fname = file_path + name  +'_soy.model'\n",
    "    model.save_model(model_fname, json_format= False) ## 맞춤법 모델 학습\n",
    "    \n",
    "    \n",
    "    ##FastText 임베딩 과정\n",
    "    Fast_list = []\n",
    "    for i in loaded_data :\n",
    "        tokens1 = mecab.morphs(i[0])\n",
    "        tokens2 = mecab.morphs(i[1])\n",
    "        Fast_list.append(tokens1)\n",
    "        Fast_list.append(tokens2)\n",
    "    model = FastText(sentences = Fast_list, vector_size = 256, window= 2, min_count= 1, workers= 4, \n",
    "                 sg = 1, epochs = 20, hs= 1,)\n",
    "    \n",
    "    print()\n",
    "    print('---- FastText Word Embedding is over')\n",
    "\n",
    "\n",
    "    model.wv.save_word2vec_format(file_path + 'FastText_' + name)"
   ]
  },
  {
   "cell_type": "code",
   "execution_count": 50,
   "id": "68d4c476",
   "metadata": {},
   "outputs": [],
   "source": [
    "def dataformat_preprocessing(data_list):\n",
    "    for file in data_list:\n",
    "        file_name = file\n",
    "        x_df = pd.read_csv(file_name, header = None)\n",
    "\n",
    "        pair_list = [[] for n in range(len(x_df))]\n",
    "\n",
    "        for i in range(len(x_df)):\n",
    "            pair_list[i].append(x_df[0][i])\n",
    "            pair_list[i].append(x_df[1][i])\n",
    "\n",
    "        soytext_Fastembedding(pair_list, 'prepro/', file_name[:-4]) ## 'prepro/' 은 코드 실행을 통해 생성된 데이터들이 저장되는 주소임. 향후 각 환경에 맞게 수정 가능 "
   ]
  },
  {
   "cell_type": "code",
   "execution_count": 72,
   "id": "98649551",
   "metadata": {},
   "outputs": [
    {
     "name": "stdout",
     "output_type": "stream",
     "text": [
      "all tags length = 31357 --> 24717, (num_doc = 37907)\n",
      "---- FastText Word Embedding is over\n"
     ]
    }
   ],
   "source": [
    "dataformat_preprocessing(data_list) ## 각 환자 데이터에 대한 전처리 및 임베딩 생성"
   ]
  }
 ],
 "metadata": {
  "kernelspec": {
   "display_name": "Python 3 (ipykernel)",
   "language": "python",
   "name": "python3"
  },
  "language_info": {
   "codemirror_mode": {
    "name": "ipython",
    "version": 3
   },
   "file_extension": ".py",
   "mimetype": "text/x-python",
   "name": "python",
   "nbconvert_exporter": "python",
   "pygments_lexer": "ipython3",
   "version": "3.8.12"
  }
 },
 "nbformat": 4,
 "nbformat_minor": 5
}

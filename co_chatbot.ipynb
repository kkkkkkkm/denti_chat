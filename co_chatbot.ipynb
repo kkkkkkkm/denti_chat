{
 "cells": [
  {
   "cell_type": "code",
   "execution_count": 1,
   "id": "f1b66ca0",
   "metadata": {},
   "outputs": [],
   "source": [
    "import import_ipynb\n",
    "import chatbot_lib as mc"
   ]
  },
  {
   "cell_type": "code",
   "execution_count": 2,
   "id": "32f4b323",
   "metadata": {},
   "outputs": [],
   "source": [
    "sample_model = mc.Denti_chatbot()"
   ]
  },
  {
   "cell_type": "code",
   "execution_count": 4,
   "id": "27a78932",
   "metadata": {},
   "outputs": [
    {
     "data": {
      "text/plain": [
       "'하루에 한갑 펴요.'"
      ]
     },
     "execution_count": 4,
     "metadata": {},
     "output_type": "execute_result"
    }
   ],
   "source": [
    "sample_model(\"담배는 얼마나 피세요?\", condition = 3)"
   ]
  },
  {
   "cell_type": "code",
   "execution_count": null,
   "id": "997bda33",
   "metadata": {},
   "outputs": [],
   "source": []
  }
 ],
 "metadata": {
  "kernelspec": {
   "display_name": "Python 3 (ipykernel)",
   "language": "python",
   "name": "python3"
  },
  "language_info": {
   "codemirror_mode": {
    "name": "ipython",
    "version": 3
   },
   "file_extension": ".py",
   "mimetype": "text/x-python",
   "name": "python",
   "nbconvert_exporter": "python",
   "pygments_lexer": "ipython3",
   "version": "3.8.12"
  }
 },
 "nbformat": 4,
 "nbformat_minor": 5
}
